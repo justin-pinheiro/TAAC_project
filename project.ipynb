{
 "cells": [
  {
   "cell_type": "code",
   "execution_count": 1,
   "metadata": {},
   "outputs": [],
   "source": [
    "import sys\n",
    "import os\n",
    "from dotenv import load_dotenv\n",
    "\n",
    "sys.path.append(os.path.abspath('src'))"
   ]
  },
  {
   "cell_type": "code",
   "execution_count": 2,
   "metadata": {},
   "outputs": [],
   "source": [
    "import SoccerNet\n",
    "from SoccerNet.Downloader import SoccerNetDownloader\n",
    "\n",
    "mySoccerNetDownloader=SoccerNetDownloader(LocalDirectory=\"SoccerNet\")\n",
    "load_dotenv()\n",
    "mySoccerNetDownloader.password = os.getenv(\"SOCCERNET_KEY\")\n",
    "\n",
    "# # Downloading the annotations of the 500 games\n",
    "# mySoccerNetDownloader.downloadGames(files=[\"Labels-v2.json\"], split=[\"train\",\"valid\",\"test\"])"
   ]
  },
  {
   "cell_type": "code",
   "execution_count": 3,
   "metadata": {},
   "outputs": [],
   "source": [
    "from utils import Utilities\n",
    "utilities = Utilities(\"SoccerNet\")\n",
    "\n",
    "# utilities.save_labels_in_csv()"
   ]
  },
  {
   "cell_type": "code",
   "execution_count": 4,
   "metadata": {},
   "outputs": [],
   "source": [
    "from data_loading import DataLoading\n",
    "\n",
    "batch_size = 16\n",
    "fps = 2\n",
    "chunk_length = 60\n",
    "\n",
    "train_dataloading = DataLoading(\"SoccerNet\", fps, chunk_length, batch_size, split_type=\"train\")\n",
    "val_dataloading = DataLoading(\"SoccerNet\", fps, chunk_length, batch_size, split_type=\"valid\")\n",
    "\n",
    "train_loader = train_dataloading.get_dataloader()\n",
    "val_loader = val_dataloading.get_dataloader()"
   ]
  },
  {
   "cell_type": "code",
   "execution_count": 5,
   "metadata": {},
   "outputs": [],
   "source": [
    "import torch\n",
    "from torch.utils.data import DataLoader\n",
    "import model\n",
    "import numpy as np\n",
    "\n",
    "from training import Trainer\n",
    "\n",
    "model = model.Model(input_dim=512, num_classes=17)\n"
   ]
  },
  {
   "cell_type": "code",
   "execution_count": null,
   "metadata": {},
   "outputs": [
    {
     "name": "stdout",
     "output_type": "stream",
     "text": [
      "Epoch 1/100: Loss = 0.69, mAP = 0.15\n",
      "Epoch 2/100: Loss = 0.69, mAP = 0.16\n",
      "Epoch 3/100: Loss = 0.69, mAP = 0.16\n",
      "Epoch 4/100: Loss = 0.69, mAP = 0.15\n",
      "Epoch 5/100: Loss = 0.69, mAP = 0.15\n",
      "Epoch 6/100: Loss = 0.69, mAP = 0.15\n",
      "Epoch 7/100: Loss = 0.69, mAP = 0.15\n",
      "Epoch 8/100: Loss = 0.69, mAP = 0.15\n",
      "Epoch 9/100: Loss = 0.69, mAP = 0.15\n",
      "Epoch 10/100: Loss = 0.69, mAP = 0.15\n",
      "Epoch 11/100: Loss = 0.69, mAP = 0.15\n",
      "Epoch 12/100: Loss = 0.69, mAP = 0.15\n",
      "Epoch 13/100: Loss = 0.69, mAP = 0.15\n",
      "Epoch 14/100: Loss = 0.69, mAP = 0.15\n",
      "Epoch 15/100: Loss = 0.69, mAP = 0.15\n",
      "Epoch 16/100: Loss = 0.69, mAP = 0.15\n",
      "Epoch 17/100: Loss = 0.69, mAP = 0.15\n",
      "Epoch 18/100: Loss = 0.69, mAP = 0.15\n",
      "Epoch 19/100: Loss = 0.69, mAP = 0.15\n",
      "Epoch 20/100: Loss = 0.69, mAP = 0.15\n",
      "Epoch 21/100: Loss = 0.69, mAP = 0.15\n",
      "Epoch 22/100: Loss = 0.69, mAP = 0.15\n",
      "Epoch 23/100: Loss = 0.69, mAP = 0.15\n",
      "Epoch 24/100: Loss = 0.69, mAP = 0.15\n",
      "Epoch 25/100: Loss = 0.69, mAP = 0.15\n",
      "Epoch 26/100: Loss = 0.69, mAP = 0.15\n",
      "Epoch 27/100: Loss = 0.69, mAP = 0.15\n",
      "Epoch 28/100: Loss = 0.69, mAP = 0.15\n",
      "Epoch 29/100: Loss = 0.69, mAP = 0.15\n",
      "Epoch 30/100: Loss = 0.69, mAP = 0.15\n",
      "Epoch 31/100: Loss = 0.69, mAP = 0.15\n",
      "Epoch 32/100: Loss = 0.69, mAP = 0.15\n",
      "Epoch 33/100: Loss = 0.69, mAP = 0.15\n",
      "Epoch 34/100: Loss = 0.69, mAP = 0.15\n",
      "Epoch 35/100: Loss = 0.69, mAP = 0.15\n",
      "Epoch 36/100: Loss = 0.69, mAP = 0.15\n",
      "Epoch 37/100: Loss = 0.69, mAP = 0.15\n",
      "Epoch 38/100: Loss = 0.69, mAP = 0.15\n",
      "Epoch 39/100: Loss = 0.69, mAP = 0.15\n",
      "Epoch 40/100: Loss = 0.69, mAP = 0.15\n",
      "Epoch 41/100: Loss = 0.69, mAP = 0.15\n",
      "Epoch 42/100: Loss = 0.69, mAP = 0.15\n",
      "Epoch 43/100: Loss = 0.69, mAP = 0.15\n",
      "Epoch 44/100: Loss = 0.69, mAP = 0.15\n",
      "Epoch 45/100: Loss = 0.69, mAP = 0.15\n",
      "Epoch 46/100: Loss = 0.69, mAP = 0.15\n",
      "Epoch 47/100: Loss = 0.69, mAP = 0.15\n",
      "Epoch 48/100: Loss = 0.69, mAP = 0.15\n",
      "Epoch 49/100: Loss = 0.69, mAP = 0.15\n",
      "Epoch 50/100: Loss = 0.69, mAP = 0.15\n",
      "Epoch 51/100: Loss = 0.69, mAP = 0.15\n",
      "Epoch 52/100: Loss = 0.69, mAP = 0.15\n",
      "Epoch 53/100: Loss = 0.69, mAP = 0.15\n",
      "Epoch 54/100: Loss = 0.69, mAP = 0.15\n",
      "Epoch 55/100: Loss = 0.69, mAP = 0.15\n",
      "Epoch 56/100: Loss = 0.69, mAP = 0.15\n",
      "Epoch 57/100: Loss = 0.69, mAP = 0.15\n",
      "Epoch 58/100: Loss = 0.69, mAP = 0.15\n",
      "Epoch 59/100: Loss = 0.69, mAP = 0.15\n",
      "Epoch 60/100: Loss = 0.69, mAP = 0.15\n",
      "Epoch 61/100: Loss = 0.69, mAP = 0.15\n",
      "Epoch 62/100: Loss = 0.69, mAP = 0.15\n",
      "Epoch 63/100: Loss = 0.69, mAP = 0.15\n",
      "Epoch 64/100: Loss = 0.69, mAP = 0.15\n",
      "Epoch 65/100: Loss = 0.69, mAP = 0.15\n",
      "Epoch 66/100: Loss = 0.69, mAP = 0.15\n",
      "Epoch 67/100: Loss = 0.69, mAP = 0.15\n",
      "Epoch 68/100: Loss = 0.69, mAP = 0.15\n",
      "Epoch 69/100: Loss = 0.69, mAP = 0.15\n",
      "Epoch 70/100: Loss = 0.69, mAP = 0.15\n",
      "Epoch 71/100: Loss = 0.69, mAP = 0.15\n",
      "Epoch 72/100: Loss = 0.69, mAP = 0.15\n",
      "Epoch 73/100: Loss = 0.69, mAP = 0.15\n",
      "Epoch 74/100: Loss = 0.69, mAP = 0.15\n",
      "Epoch 75/100: Loss = 0.69, mAP = 0.15\n",
      "Epoch 76/100: Loss = 0.69, mAP = 0.15\n",
      "Epoch 77/100: Loss = 0.69, mAP = 0.15\n",
      "Epoch 78/100: Loss = 0.69, mAP = 0.15\n",
      "Epoch 79/100: Loss = 0.69, mAP = 0.15\n",
      "Epoch 80/100: Loss = 0.69, mAP = 0.15\n",
      "Epoch 81/100: Loss = 0.69, mAP = 0.15\n",
      "Epoch 82/100: Loss = 0.69, mAP = 0.15\n",
      "Epoch 83/100: Loss = 0.69, mAP = 0.15\n",
      "Epoch 84/100: Loss = 0.69, mAP = 0.15\n",
      "Epoch 85/100: Loss = 0.69, mAP = 0.15\n",
      "Epoch 86/100: Loss = 0.69, mAP = 0.15\n",
      "Epoch 87/100: Loss = 0.69, mAP = 0.15\n",
      "Epoch 88/100: Loss = 0.69, mAP = 0.15\n",
      "Epoch 89/100: Loss = 0.68, mAP = 0.15\n",
      "Epoch 90/100: Loss = 0.69, mAP = 0.15\n",
      "Epoch 91/100: Loss = 0.69, mAP = 0.15\n",
      "Epoch 92/100: Loss = 0.69, mAP = 0.15\n",
      "Epoch 93/100: Loss = 0.69, mAP = 0.15\n",
      "Epoch 94/100: Loss = 0.69, mAP = 0.15\n",
      "Epoch 95/100: Loss = 0.68, mAP = 0.15\n",
      "Epoch 96/100: Loss = 0.68, mAP = 0.15\n",
      "Epoch 97/100: Loss = 0.68, mAP = 0.15\n",
      "Epoch 98/100: Loss = 0.69, mAP = 0.15\n",
      "Epoch 99/100: Loss = 0.68, mAP = 0.15\n",
      "Epoch 100/100: Loss = 0.69, mAP = 0.15\n"
     ]
    },
    {
     "ename": "ValueError",
     "evalue": "x and y must have same first dimension, but have shapes (100,) and (0,)",
     "output_type": "error",
     "traceback": [
      "\u001b[1;31m---------------------------------------------------------------------------\u001b[0m",
      "\u001b[1;31mValueError\u001b[0m                                Traceback (most recent call last)",
      "Cell \u001b[1;32mIn[5], line 4\u001b[0m\n\u001b[0;32m      1\u001b[0m trainer \u001b[38;5;241m=\u001b[39m Trainer(model, train_loader, val_loader, epochs\u001b[38;5;241m=\u001b[39m\u001b[38;5;241m100\u001b[39m, batch_size\u001b[38;5;241m=\u001b[39mbatch_size)\n\u001b[0;32m      3\u001b[0m \u001b[38;5;66;03m# Train the model\u001b[39;00m\n\u001b[1;32m----> 4\u001b[0m \u001b[43mtrainer\u001b[49m\u001b[38;5;241;43m.\u001b[39;49m\u001b[43mtrain\u001b[49m\u001b[43m(\u001b[49m\u001b[43m)\u001b[49m\n",
      "File \u001b[1;32mc:\\Users\\justi\\Documents\\TRAVAIL\\Porto\\Deep Learning\\TAAC_project\\src\\training.py:107\u001b[0m, in \u001b[0;36mTrainer.train\u001b[1;34m(self)\u001b[0m\n\u001b[0;32m    104\u001b[0m         \u001b[38;5;28mself\u001b[39m\u001b[38;5;241m.\u001b[39mscheduler\u001b[38;5;241m.\u001b[39mstep()\n\u001b[0;32m    106\u001b[0m     \u001b[38;5;28mself\u001b[39m\u001b[38;5;241m.\u001b[39mlog_training_progress(epoch, total_loss \u001b[38;5;241m/\u001b[39m \u001b[38;5;28mlen\u001b[39m(\u001b[38;5;28mself\u001b[39m\u001b[38;5;241m.\u001b[39mtrain_loader\u001b[38;5;241m.\u001b[39mdataset), train_mAP)\n\u001b[1;32m--> 107\u001b[0m \u001b[38;5;28;43mself\u001b[39;49m\u001b[38;5;241;43m.\u001b[39;49m\u001b[43mplot_training_loss\u001b[49m\u001b[43m(\u001b[49m\u001b[43m)\u001b[49m\n",
      "File \u001b[1;32mc:\\Users\\justi\\Documents\\TRAVAIL\\Porto\\Deep Learning\\TAAC_project\\src\\training.py:146\u001b[0m, in \u001b[0;36mTrainer.plot_training_loss\u001b[1;34m(self)\u001b[0m\n\u001b[0;32m    144\u001b[0m plt\u001b[38;5;241m.\u001b[39mplot(epochs, \u001b[38;5;28mself\u001b[39m\u001b[38;5;241m.\u001b[39mmetrics[\u001b[38;5;124m'\u001b[39m\u001b[38;5;124mtrain_mAP\u001b[39m\u001b[38;5;124m'\u001b[39m], label\u001b[38;5;241m=\u001b[39m\u001b[38;5;124m'\u001b[39m\u001b[38;5;124mTraining mAP\u001b[39m\u001b[38;5;124m'\u001b[39m)\n\u001b[0;32m    145\u001b[0m \u001b[38;5;28;01mif\u001b[39;00m \u001b[38;5;124m'\u001b[39m\u001b[38;5;124mval_loss\u001b[39m\u001b[38;5;124m'\u001b[39m \u001b[38;5;129;01min\u001b[39;00m \u001b[38;5;28mself\u001b[39m\u001b[38;5;241m.\u001b[39mmetrics:\n\u001b[1;32m--> 146\u001b[0m     \u001b[43mplt\u001b[49m\u001b[38;5;241;43m.\u001b[39;49m\u001b[43mplot\u001b[49m\u001b[43m(\u001b[49m\u001b[43mepochs\u001b[49m\u001b[43m,\u001b[49m\u001b[43m \u001b[49m\u001b[38;5;28;43mself\u001b[39;49m\u001b[38;5;241;43m.\u001b[39;49m\u001b[43mmetrics\u001b[49m\u001b[43m[\u001b[49m\u001b[38;5;124;43m'\u001b[39;49m\u001b[38;5;124;43mval_loss\u001b[39;49m\u001b[38;5;124;43m'\u001b[39;49m\u001b[43m]\u001b[49m\u001b[43m,\u001b[49m\u001b[43m \u001b[49m\u001b[43mlabel\u001b[49m\u001b[38;5;241;43m=\u001b[39;49m\u001b[38;5;124;43m'\u001b[39;49m\u001b[38;5;124;43mValidation Loss\u001b[39;49m\u001b[38;5;124;43m'\u001b[39;49m\u001b[43m)\u001b[49m\n\u001b[0;32m    147\u001b[0m plt\u001b[38;5;241m.\u001b[39mxlabel(\u001b[38;5;124m'\u001b[39m\u001b[38;5;124mEpochs\u001b[39m\u001b[38;5;124m'\u001b[39m)\n\u001b[0;32m    148\u001b[0m plt\u001b[38;5;241m.\u001b[39mylabel(\u001b[38;5;124m'\u001b[39m\u001b[38;5;124mLoss\u001b[39m\u001b[38;5;124m'\u001b[39m)\n",
      "File \u001b[1;32mc:\\Python310\\lib\\site-packages\\matplotlib\\pyplot.py:3590\u001b[0m, in \u001b[0;36mplot\u001b[1;34m(scalex, scaley, data, *args, **kwargs)\u001b[0m\n\u001b[0;32m   3582\u001b[0m \u001b[38;5;129m@_copy_docstring_and_deprecators\u001b[39m(Axes\u001b[38;5;241m.\u001b[39mplot)\n\u001b[0;32m   3583\u001b[0m \u001b[38;5;28;01mdef\u001b[39;00m \u001b[38;5;21mplot\u001b[39m(\n\u001b[0;32m   3584\u001b[0m     \u001b[38;5;241m*\u001b[39margs: \u001b[38;5;28mfloat\u001b[39m \u001b[38;5;241m|\u001b[39m ArrayLike \u001b[38;5;241m|\u001b[39m \u001b[38;5;28mstr\u001b[39m,\n\u001b[1;32m   (...)\u001b[0m\n\u001b[0;32m   3588\u001b[0m     \u001b[38;5;241m*\u001b[39m\u001b[38;5;241m*\u001b[39mkwargs,\n\u001b[0;32m   3589\u001b[0m ) \u001b[38;5;241m-\u001b[39m\u001b[38;5;241m>\u001b[39m \u001b[38;5;28mlist\u001b[39m[Line2D]:\n\u001b[1;32m-> 3590\u001b[0m     \u001b[38;5;28;01mreturn\u001b[39;00m gca()\u001b[38;5;241m.\u001b[39mplot(\n\u001b[0;32m   3591\u001b[0m         \u001b[38;5;241m*\u001b[39margs,\n\u001b[0;32m   3592\u001b[0m         scalex\u001b[38;5;241m=\u001b[39mscalex,\n\u001b[0;32m   3593\u001b[0m         scaley\u001b[38;5;241m=\u001b[39mscaley,\n\u001b[0;32m   3594\u001b[0m         \u001b[38;5;241m*\u001b[39m\u001b[38;5;241m*\u001b[39m({\u001b[38;5;124m\"\u001b[39m\u001b[38;5;124mdata\u001b[39m\u001b[38;5;124m\"\u001b[39m: data} \u001b[38;5;28;01mif\u001b[39;00m data \u001b[38;5;129;01mis\u001b[39;00m \u001b[38;5;129;01mnot\u001b[39;00m \u001b[38;5;28;01mNone\u001b[39;00m \u001b[38;5;28;01melse\u001b[39;00m {}),\n\u001b[0;32m   3595\u001b[0m         \u001b[38;5;241m*\u001b[39m\u001b[38;5;241m*\u001b[39mkwargs,\n\u001b[0;32m   3596\u001b[0m     )\n",
      "File \u001b[1;32mc:\\Python310\\lib\\site-packages\\matplotlib\\axes\\_axes.py:1724\u001b[0m, in \u001b[0;36mAxes.plot\u001b[1;34m(self, scalex, scaley, data, *args, **kwargs)\u001b[0m\n\u001b[0;32m   1481\u001b[0m \u001b[38;5;250m\u001b[39m\u001b[38;5;124;03m\"\"\"\u001b[39;00m\n\u001b[0;32m   1482\u001b[0m \u001b[38;5;124;03mPlot y versus x as lines and/or markers.\u001b[39;00m\n\u001b[0;32m   1483\u001b[0m \n\u001b[1;32m   (...)\u001b[0m\n\u001b[0;32m   1721\u001b[0m \u001b[38;5;124;03m(``'green'``) or hex strings (``'#008000'``).\u001b[39;00m\n\u001b[0;32m   1722\u001b[0m \u001b[38;5;124;03m\"\"\"\u001b[39;00m\n\u001b[0;32m   1723\u001b[0m kwargs \u001b[38;5;241m=\u001b[39m cbook\u001b[38;5;241m.\u001b[39mnormalize_kwargs(kwargs, mlines\u001b[38;5;241m.\u001b[39mLine2D)\n\u001b[1;32m-> 1724\u001b[0m lines \u001b[38;5;241m=\u001b[39m [\u001b[38;5;241m*\u001b[39m\u001b[38;5;28mself\u001b[39m\u001b[38;5;241m.\u001b[39m_get_lines(\u001b[38;5;28mself\u001b[39m, \u001b[38;5;241m*\u001b[39margs, data\u001b[38;5;241m=\u001b[39mdata, \u001b[38;5;241m*\u001b[39m\u001b[38;5;241m*\u001b[39mkwargs)]\n\u001b[0;32m   1725\u001b[0m \u001b[38;5;28;01mfor\u001b[39;00m line \u001b[38;5;129;01min\u001b[39;00m lines:\n\u001b[0;32m   1726\u001b[0m     \u001b[38;5;28mself\u001b[39m\u001b[38;5;241m.\u001b[39madd_line(line)\n",
      "File \u001b[1;32mc:\\Python310\\lib\\site-packages\\matplotlib\\axes\\_base.py:303\u001b[0m, in \u001b[0;36m_process_plot_var_args.__call__\u001b[1;34m(self, axes, data, *args, **kwargs)\u001b[0m\n\u001b[0;32m    301\u001b[0m     this \u001b[38;5;241m+\u001b[39m\u001b[38;5;241m=\u001b[39m args[\u001b[38;5;241m0\u001b[39m],\n\u001b[0;32m    302\u001b[0m     args \u001b[38;5;241m=\u001b[39m args[\u001b[38;5;241m1\u001b[39m:]\n\u001b[1;32m--> 303\u001b[0m \u001b[38;5;28;01myield from\u001b[39;00m \u001b[38;5;28;43mself\u001b[39;49m\u001b[38;5;241;43m.\u001b[39;49m\u001b[43m_plot_args\u001b[49m\u001b[43m(\u001b[49m\n\u001b[0;32m    304\u001b[0m \u001b[43m    \u001b[49m\u001b[43maxes\u001b[49m\u001b[43m,\u001b[49m\u001b[43m \u001b[49m\u001b[43mthis\u001b[49m\u001b[43m,\u001b[49m\u001b[43m \u001b[49m\u001b[43mkwargs\u001b[49m\u001b[43m,\u001b[49m\u001b[43m \u001b[49m\u001b[43mambiguous_fmt_datakey\u001b[49m\u001b[38;5;241;43m=\u001b[39;49m\u001b[43mambiguous_fmt_datakey\u001b[49m\u001b[43m)\u001b[49m\n",
      "File \u001b[1;32mc:\\Python310\\lib\\site-packages\\matplotlib\\axes\\_base.py:499\u001b[0m, in \u001b[0;36m_process_plot_var_args._plot_args\u001b[1;34m(self, axes, tup, kwargs, return_kwargs, ambiguous_fmt_datakey)\u001b[0m\n\u001b[0;32m    496\u001b[0m     axes\u001b[38;5;241m.\u001b[39myaxis\u001b[38;5;241m.\u001b[39mupdate_units(y)\n\u001b[0;32m    498\u001b[0m \u001b[38;5;28;01mif\u001b[39;00m x\u001b[38;5;241m.\u001b[39mshape[\u001b[38;5;241m0\u001b[39m] \u001b[38;5;241m!=\u001b[39m y\u001b[38;5;241m.\u001b[39mshape[\u001b[38;5;241m0\u001b[39m]:\n\u001b[1;32m--> 499\u001b[0m     \u001b[38;5;28;01mraise\u001b[39;00m \u001b[38;5;167;01mValueError\u001b[39;00m(\u001b[38;5;124mf\u001b[39m\u001b[38;5;124m\"\u001b[39m\u001b[38;5;124mx and y must have same first dimension, but \u001b[39m\u001b[38;5;124m\"\u001b[39m\n\u001b[0;32m    500\u001b[0m                      \u001b[38;5;124mf\u001b[39m\u001b[38;5;124m\"\u001b[39m\u001b[38;5;124mhave shapes \u001b[39m\u001b[38;5;132;01m{\u001b[39;00mx\u001b[38;5;241m.\u001b[39mshape\u001b[38;5;132;01m}\u001b[39;00m\u001b[38;5;124m and \u001b[39m\u001b[38;5;132;01m{\u001b[39;00my\u001b[38;5;241m.\u001b[39mshape\u001b[38;5;132;01m}\u001b[39;00m\u001b[38;5;124m\"\u001b[39m)\n\u001b[0;32m    501\u001b[0m \u001b[38;5;28;01mif\u001b[39;00m x\u001b[38;5;241m.\u001b[39mndim \u001b[38;5;241m>\u001b[39m \u001b[38;5;241m2\u001b[39m \u001b[38;5;129;01mor\u001b[39;00m y\u001b[38;5;241m.\u001b[39mndim \u001b[38;5;241m>\u001b[39m \u001b[38;5;241m2\u001b[39m:\n\u001b[0;32m    502\u001b[0m     \u001b[38;5;28;01mraise\u001b[39;00m \u001b[38;5;167;01mValueError\u001b[39;00m(\u001b[38;5;124mf\u001b[39m\u001b[38;5;124m\"\u001b[39m\u001b[38;5;124mx and y can be no greater than 2D, but have \u001b[39m\u001b[38;5;124m\"\u001b[39m\n\u001b[0;32m    503\u001b[0m                      \u001b[38;5;124mf\u001b[39m\u001b[38;5;124m\"\u001b[39m\u001b[38;5;124mshapes \u001b[39m\u001b[38;5;132;01m{\u001b[39;00mx\u001b[38;5;241m.\u001b[39mshape\u001b[38;5;132;01m}\u001b[39;00m\u001b[38;5;124m and \u001b[39m\u001b[38;5;132;01m{\u001b[39;00my\u001b[38;5;241m.\u001b[39mshape\u001b[38;5;132;01m}\u001b[39;00m\u001b[38;5;124m\"\u001b[39m)\n",
      "\u001b[1;31mValueError\u001b[0m: x and y must have same first dimension, but have shapes (100,) and (0,)"
     ]
    },
    {
     "data": {
      "image/png": "[encoded data removed]",
      "text/plain": [
       "<Figure size 1000x600 with 1 Axes>"
      ]
     },
     "metadata": {},
     "output_type": "display_data"
    }
   ],
   "source": [
    "trainer = Trainer(model, train_loader, val_loader, epochs=100, batch_size=batch_size, prediction_threshold=0.4)\n",
    "\n",
    "# Train the model\n",
    "trainer.train()"
   ]
  },
  {
   "cell_type": "code",
   "execution_count": null,
   "metadata": {},
   "outputs": [
    {
     "name": "stdout",
     "output_type": "stream",
     "text": [
      "SoccerNet\\england_epl\\2014-2015\\2015-02-21 - 18-00 Chelsea 1 - 1 Burnley\\1_224p.mkv already exists\n",
      "SoccerNet\\england_epl\\2014-2015\\2015-02-21 - 18-00 Chelsea 1 - 1 Burnley\\2_224p.mkv already exists\n",
      "SoccerNet\\england_epl\\2014-2015\\2015-02-21 - 18-00 Crystal Palace 1 - 2 Arsenal\\1_224p.mkv already exists\n",
      "SoccerNet\\england_epl\\2014-2015\\2015-02-21 - 18-00 Crystal Palace 1 - 2 Arsenal\\2_224p.mkv already exists\n",
      "SoccerNet\\england_epl\\2014-2015\\2015-02-21 - 18-00 Swansea 2 - 1 Manchester United\\1_224p.mkv already exists\n",
      "SoccerNet\\england_epl\\2014-2015\\2015-02-21 - 18-00 Swansea 2 - 1 Manchester United\\2_224p.mkv already exists\n",
      "SoccerNet\\england_epl\\2014-2015\\2015-02-22 - 19-15 Southampton 0 - 2 Liverpool\\1_224p.mkv already exists\n",
      "SoccerNet\\england_epl\\2014-2015\\2015-02-22 - 19-15 Southampton 0 - 2 Liverpool\\2_224p.mkv already exists\n",
      "SoccerNet\\england_epl\\2015-2016\\2015-08-08 - 19-30 Chelsea 2 - 2 Swansea\\1_224p.mkv already exists\n",
      "SoccerNet\\england_epl\\2015-2016\\2015-08-08 - 19-30 Chelsea 2 - 2 Swansea\\2_224p.mkv already exists\n",
      "SoccerNet\\england_epl\\2015-2016\\2015-08-29 - 17-00 Chelsea 1 - 2 Crystal Palace\\1_224p.mkv already exists\n",
      "SoccerNet\\england_epl\\2015-2016\\2015-08-29 - 17-00 Chelsea 1 - 2 Crystal Palace\\2_224p.mkv already exists\n",
      "SoccerNet\\england_epl\\2015-2016\\2015-08-29 - 17-00 Manchester City 2 - 0 Watford\\1_224p.mkv already exists\n",
      "SoccerNet\\england_epl\\2015-2016\\2015-08-29 - 17-00 Manchester City 2 - 0 Watford\\2_224p.mkv already exists\n",
      "SoccerNet\\england_epl\\2015-2016\\2015-09-12 - 14-45 Everton 3 - 1 Chelsea\\1_224p.mkv already exists\n",
      "SoccerNet\\england_epl\\2015-2016\\2015-09-12 - 14-45 Everton 3 - 1 Chelsea\\2_224p.mkv already exists\n",
      "SoccerNet\\england_epl\\2015-2016\\2015-09-12 - 17-00 Crystal Palace 0 - 1 Manchester City\\1_224p.mkv already exists\n",
      "SoccerNet\\england_epl\\2015-2016\\2015-09-12 - 17-00 Crystal Palace 0 - 1 Manchester City\\2_224p.mkv already exists\n",
      "SoccerNet\\england_epl\\2015-2016\\2015-09-19 - 19-30 Manchester City 1 - 2 West Ham\\1_224p.mkv already exists\n",
      "SoccerNet\\england_epl\\2015-2016\\2015-09-19 - 19-30 Manchester City 1 - 2 West Ham\\2_224p.mkv already exists\n",
      "SoccerNet\\england_epl\\2015-2016\\2015-09-26 - 17-00 Liverpool 3 - 2 Aston Villa\\1_224p.mkv already exists\n"
     ]
    },
    {
     "name": "stderr",
     "output_type": "stream",
     "text": [
      "Downloading SoccerNet\\england_epl\\2015-2016\\2015-09-26 - 17-00 Liverpool 3 - 2 Aston Villa\\2_224p.mkv...:   4%|▍         | 7.18M/179M [00:23<09:03, 316kiB/s]"
     ]
    }
   ],
   "source": [
    "# Downloading the videos of the 500 games\n",
    "mySoccerNetDownloader.downloadGames(files=[\"1_224p.mkv\", \"2_224p.mkv\"], split=[\"train\",\"valid\",\"test\",\"challenge\"])"
   ]
  },
  {
   "cell_type": "code",
   "execution_count": null,
   "metadata": {},
   "outputs": [],
   "source": [
    "import pandas as pd\n",
    "from IPython.display import display\n",
    "pd.set_option('display.max_columns', None)\n",
    "pd.set_option('display.width', 1000)\n",
    "pd.set_option('display.max_rows', 20)\n",
    "pd.set_option('display.colheader_justify', 'center')\n",
    "\n",
    "annotations_df = utilities.parse_labels_json()\n",
    "annotations_engineered_df = utilities.parse_labels_json_with_feature_engineering()\n",
    "\n",
    "display(annotations_df.head())\n",
    "annotations_df.to_csv(\"annotations.csv\", index=False)\n",
    "\n",
    "display(annotations_engineered_df.head(100))\n",
    "annotations_engineered_df.to_csv(\"annotations_engineered.csv\", index=False)"
   ]
  },
  {
   "cell_type": "code",
   "execution_count": null,
   "metadata": {},
   "outputs": [],
   "source": [
    "print(\"Number of rows:\", annotations_engineered_df.shape[0])\n",
    "print(\"Number of columns:\", annotations_engineered_df.shape[1])"
   ]
  },
  {
   "cell_type": "code",
   "execution_count": null,
   "metadata": {},
   "outputs": [],
   "source": [
    "print(\"DataFrame Info:\")\n",
    "print(annotations_engineered_df.info())"
   ]
  },
  {
   "cell_type": "code",
   "execution_count": null,
   "metadata": {},
   "outputs": [],
   "source": [
    "print(\"Missing Values per Column:\")\n",
    "print(annotations_engineered_df.isnull().sum())\n"
   ]
  },
  {
   "cell_type": "code",
   "execution_count": null,
   "metadata": {},
   "outputs": [],
   "source": [
    "print(\"Descriptive Statistics (Including Non-Numerical):\")\n",
    "display(annotations_engineered_df.describe(include='all'))"
   ]
  },
  {
   "cell_type": "code",
   "execution_count": null,
   "metadata": {},
   "outputs": [],
   "source": [
    "# Number of unique labels (excluding game-related columns)\n",
    "label_columns = [col for col in annotations_engineered_df.columns if col.startswith('label_')]\n",
    "unique_labels = len(label_columns)\n",
    "print(\"Number of unique labels:\", unique_labels)\n",
    "\n",
    "# List of unique labels (based on the column names)\n",
    "print(\"Unique labels:\", label_columns)\n"
   ]
  },
  {
   "cell_type": "code",
   "execution_count": null,
   "metadata": {},
   "outputs": [],
   "source": [
    "utilities.print_labels_distribution(annotations_engineered_df)"
   ]
  },
  {
   "cell_type": "code",
   "execution_count": null,
   "metadata": {},
   "outputs": [],
   "source": [
    "utilities.print_labels_frequency(annotations_engineered_df)"
   ]
  },
  {
   "cell_type": "code",
   "execution_count": null,
   "metadata": {},
   "outputs": [],
   "source": [
    "utilities.print_labels_frequency_per_league(annotations_engineered_df)"
   ]
  },
  {
   "cell_type": "code",
   "execution_count": null,
   "metadata": {},
   "outputs": [],
   "source": [
    "utilities.print_labels_distribution_over_game_intervals(annotations_engineered_df)"
   ]
  }
 ],
 "metadata": {
  "kernelspec": {
   "display_name": "Python 3",
   "language": "python",
   "name": "python3"
  },
  "language_info": {
   "codemirror_mode": {
    "name": "ipython",
    "version": 3
   },
   "file_extension": ".py",
   "mimetype": "text/x-python",
   "name": "python",
   "nbconvert_exporter": "python",
   "pygments_lexer": "ipython3",
   "version": "3.10.4"
  }
 },
 "nbformat": 4,
 "nbformat_minor": 2
}
