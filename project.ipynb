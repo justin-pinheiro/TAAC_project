{
 "cells": [
  {
   "cell_type": "code",
   "execution_count": 1,
   "metadata": {},
   "outputs": [],
   "source": [
    "import sys\n",
    "import os\n",
    "from dotenv import load_dotenv\n",
    "\n",
    "sys.path.append(os.path.abspath('src'))"
   ]
  },
  {
   "cell_type": "code",
   "execution_count": 2,
   "metadata": {},
   "outputs": [],
   "source": [
    "import SoccerNet\n",
    "from SoccerNet.Downloader import SoccerNetDownloader\n",
    "\n",
    "mySoccerNetDownloader=SoccerNetDownloader(LocalDirectory=\"SoccerNet\")\n",
    "load_dotenv()\n",
    "mySoccerNetDownloader.password = os.getenv(\"SOCCERNET_KEY\")\n",
    "\n",
    "# # Downloading the annotations of the 500 games\n",
    "# mySoccerNetDownloader.downloadGames(files=[\"Labels-v2.json\"], split=[\"train\",\"valid\",\"test\"])"
   ]
  },
  {
   "cell_type": "code",
   "execution_count": 3,
   "metadata": {},
   "outputs": [],
   "source": [
    "from utils import Utilities\n",
    "utilities = Utilities(\"SoccerNet\")\n",
    "\n",
    "# utilities.save_labels_in_csv()"
   ]
  },
  {
   "cell_type": "code",
   "execution_count": 6,
   "metadata": {},
   "outputs": [
    {
     "data": {
      "text/plain": [
       "'Model test passed successfully'"
      ]
     },
     "execution_count": 6,
     "metadata": {},
     "output_type": "execute_result"
    }
   ],
   "source": [
    "import torch\n",
    "from torch.utils.data import DataLoader\n",
    "import model\n",
    "import numpy as np\n",
    "\n",
    "model.test_model(\"model_0_0\")"
   ]
  },
  {
   "cell_type": "code",
   "execution_count": null,
   "metadata": {},
   "outputs": [],
   "source": [
    "# Downloading the videos of the 500 games\n",
    "mySoccerNetDownloader.downloadGames(files=[\"1_224p.mkv\", \"2_224p.mkv\"], split=[\"train\",\"valid\",\"test\",\"challenge\"])"
   ]
  },
  {
   "cell_type": "code",
   "execution_count": null,
   "metadata": {},
   "outputs": [],
   "source": [
    "import pandas as pd\n",
    "from IPython.display import display\n",
    "pd.set_option('display.max_columns', None)\n",
    "pd.set_option('display.width', 1000)\n",
    "pd.set_option('display.max_rows', 20)\n",
    "pd.set_option('display.colheader_justify', 'center')\n",
    "\n",
    "annotations_df = utilities.parse_labels_json()\n",
    "annotations_engineered_df = utilities.parse_labels_json_with_feature_engineering()\n",
    "\n",
    "display(annotations_df.head())\n",
    "annotations_df.to_csv(\"annotations.csv\", index=False)\n",
    "\n",
    "display(annotations_engineered_df.head(100))\n",
    "annotations_engineered_df.to_csv(\"annotations_engineered.csv\", index=False)"
   ]
  },
  {
   "cell_type": "code",
   "execution_count": null,
   "metadata": {},
   "outputs": [],
   "source": [
    "print(\"Number of rows:\", annotations_engineered_df.shape[0])\n",
    "print(\"Number of columns:\", annotations_engineered_df.shape[1])"
   ]
  },
  {
   "cell_type": "code",
   "execution_count": null,
   "metadata": {},
   "outputs": [],
   "source": [
    "print(\"DataFrame Info:\")\n",
    "print(annotations_engineered_df.info())"
   ]
  },
  {
   "cell_type": "code",
   "execution_count": null,
   "metadata": {},
   "outputs": [],
   "source": [
    "print(\"Missing Values per Column:\")\n",
    "print(annotations_engineered_df.isnull().sum())\n"
   ]
  },
  {
   "cell_type": "code",
   "execution_count": null,
   "metadata": {},
   "outputs": [],
   "source": [
    "print(\"Descriptive Statistics (Including Non-Numerical):\")\n",
    "display(annotations_engineered_df.describe(include='all'))"
   ]
  },
  {
   "cell_type": "code",
   "execution_count": null,
   "metadata": {},
   "outputs": [],
   "source": [
    "# Number of unique labels (excluding game-related columns)\n",
    "label_columns = [col for col in annotations_engineered_df.columns if col.startswith('label_')]\n",
    "unique_labels = len(label_columns)\n",
    "print(\"Number of unique labels:\", unique_labels)\n",
    "\n",
    "# List of unique labels (based on the column names)\n",
    "print(\"Unique labels:\", label_columns)\n"
   ]
  },
  {
   "cell_type": "code",
   "execution_count": null,
   "metadata": {},
   "outputs": [],
   "source": [
    "utilities.print_labels_distribution(annotations_engineered_df)"
   ]
  },
  {
   "cell_type": "code",
   "execution_count": null,
   "metadata": {},
   "outputs": [],
   "source": [
    "utilities.print_labels_frequency(annotations_engineered_df)"
   ]
  },
  {
   "cell_type": "code",
   "execution_count": null,
   "metadata": {},
   "outputs": [],
   "source": [
    "utilities.print_labels_frequency_per_league(annotations_engineered_df)"
   ]
  },
  {
   "cell_type": "code",
   "execution_count": null,
   "metadata": {},
   "outputs": [],
   "source": [
    "utilities.print_labels_distribution_over_game_intervals(annotations_engineered_df)"
   ]
  }
 ],
 "metadata": {
  "kernelspec": {
   "display_name": "Python 3",
   "language": "python",
   "name": "python3"
  },
  "language_info": {
   "codemirror_mode": {
    "name": "ipython",
    "version": 3
   },
   "file_extension": ".py",
   "mimetype": "text/x-python",
   "name": "python",
   "nbconvert_exporter": "python",
   "pygments_lexer": "ipython3",
   "version": "3.10.4"
  }
 },
 "nbformat": 4,
 "nbformat_minor": 2
}
