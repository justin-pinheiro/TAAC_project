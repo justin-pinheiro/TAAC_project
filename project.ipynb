{
 "cells": [
  {
   "cell_type": "code",
   "execution_count": 7,
   "metadata": {},
   "outputs": [],
   "source": [
    "import sys\n",
    "import os\n",
    "from dotenv import load_dotenv\n",
    "\n",
    "sys.path.append(os.path.abspath('src'))"
   ]
  },
  {
   "cell_type": "code",
   "execution_count": 8,
   "metadata": {},
   "outputs": [],
   "source": [
    "import SoccerNet\n",
    "from SoccerNet.Downloader import SoccerNetDownloader\n",
    "\n",
    "mySoccerNetDownloader=SoccerNetDownloader(LocalDirectory=\"SoccerNet\")\n",
    "load_dotenv()\n",
    "mySoccerNetDownloader.password = os.getenv(\"SOCCERNET_KEY\")\n",
    "\n",
    "# # Downloading the annotations of the 500 games\n",
    "# mySoccerNetDownloader.downloadGames(files=[\"Labels-v2.json\"], split=[\"train\",\"valid\",\"test\"])"
   ]
  },
  {
   "cell_type": "code",
   "execution_count": 9,
   "metadata": {},
   "outputs": [],
   "source": [
    "from utils import Utilities\n",
    "# utilities = Utilities(\"SoccerNet\")\n",
    "\n",
    "# utilities.save_labels_in_csv()"
   ]
  },
  {
   "cell_type": "code",
   "execution_count": 10,
   "metadata": {},
   "outputs": [
    {
     "data": {
      "text/plain": [
       "'Model test passed successfully'"
      ]
     },
     "execution_count": 10,
     "metadata": {},
     "output_type": "execute_result"
    }
   ],
   "source": [
    "import torch\n",
    "from torch.utils.data import DataLoader\n",
    "import model\n",
    "import numpy as np\n",
    "\n",
    "model.test_model(\"model_0_0\")"
   ]
  },
  {
   "cell_type": "code",
   "execution_count": 11,
   "metadata": {},
   "outputs": [
    {
     "name": "stdout",
     "output_type": "stream",
     "text": [
      "Evaluator initialized with the following parameters:\n",
      "Device: cpu, Batch Size: 32, Score Type: mAP\n",
      "Computing mAP...\n",
      "Class 1 preds: [0. 0. 1. 1.]\n",
      "Class 1 labels: [0 0 1 1]\n",
      "Class 1: AP = 1.0000\n",
      "Class 2 preds: [1. 1. 1. 1.]\n",
      "Class 2 labels: [1 1 1 1]\n",
      "Class 2: AP = 1.0000\n",
      "Class 3 preds: [0. 1. 0. 1.]\n",
      "Class 3 labels: [0 1 0 1]\n",
      "Class 3: AP = 1.0000\n",
      "Class 4 preds: [1. 0. 1. 0.]\n",
      "Class 4 labels: [1 0 1 0]\n",
      "Class 4: AP = 1.0000\n",
      "Class 5 preds: [1. 1. 1. 1.]\n",
      "Class 5 labels: [1 1 1 1]\n",
      "Class 5: AP = 1.0000\n",
      "Computed mAP: 1.0000\n",
      "Scenario 1 mAP: 1.00\n",
      "Computing mAP...\n",
      "Class 1 preds: [1. 1. 0. 0.]\n",
      "Class 1 labels: [0 0 1 1]\n",
      "Class 1: AP = 0.5000\n",
      "Class 2 preds: [0. 0. 0. 0.]\n",
      "Class 2 labels: [1 1 1 1]\n",
      "Class 2: No positive predictions. AP = 0.\n",
      "Class 3 preds: [1. 0. 1. 0.]\n",
      "Class 3 labels: [0 1 0 1]\n",
      "Class 3: AP = 0.5000\n",
      "Class 4 preds: [0. 1. 0. 1.]\n",
      "Class 4 labels: [1 0 1 0]\n",
      "Class 4: AP = 0.5000\n",
      "Class 5 preds: [0. 0. 0. 0.]\n",
      "Class 5 labels: [1 1 1 1]\n",
      "Class 5: No positive predictions. AP = 0.\n",
      "Computed mAP: 0.3000\n",
      "Scenario 2 mAP: 0.30\n"
     ]
    }
   ],
   "source": [
    "from evaluation import Evaluator\n",
    "from model import Model\n",
    "\n",
    "labels = [\n",
    "    [0, 1, 0, 1, 1],\n",
    "    [0, 1, 1, 0, 1],\n",
    "    [1, 1, 0, 1, 1],\n",
    "    [1, 1, 1, 0, 1],\n",
    "]\n",
    "\n",
    "predictions_scenario_1 = [\n",
    "    [0.0, 1.0, 0.0, 1.0, 1.0],\n",
    "    [0.0, 1.0, 1.0, 0.0, 1.0],\n",
    "    [1.0, 1.0, 0.0, 1.0, 1.0],\n",
    "    [1.0, 1.0, 1.0, 0.0, 1.0],\n",
    "]\n",
    "\n",
    "predictions_scenario_2 = [\n",
    "    [1.0, 0.0, 1.0, 0.0, 0.0],\n",
    "    [1.0, 0.0, 0.0, 1.0, 0.0],\n",
    "    [0.0, 0.0, 1.0, 0.0, 0.0],\n",
    "    [0.0, 0.0, 0.0, 1.0, 0.0],\n",
    "]\n",
    "\n",
    "model = Model(input_dim=512, num_classes=17)\n",
    "evaluator = Evaluator(model, None, \"cpu\", 32, \"mAP\", verbose=True)\n",
    "\n",
    "# Test Scenario 1\n",
    "mAP_1 = evaluator.compute_mAP(predictions_scenario_1, labels)\n",
    "print(f\"Scenario 1 mAP: {mAP_1:.2f}\")\n",
    "\n",
    "# Test Scenario 2\n",
    "mAP_2 = evaluator.compute_mAP(predictions_scenario_2, labels)\n",
    "print(f\"Scenario 2 mAP: {mAP_2:.2f}\")"
   ]
  },
  {
   "cell_type": "code",
   "execution_count": null,
   "metadata": {},
   "outputs": [],
   "source": [
    "# Downloading the videos of the 500 games\n",
    "mySoccerNetDownloader.downloadGames(files=[\"1_224p.mkv\", \"2_224p.mkv\"], split=[\"train\",\"valid\",\"test\",\"challenge\"])"
   ]
  },
  {
   "cell_type": "code",
   "execution_count": null,
   "metadata": {},
   "outputs": [],
   "source": [
    "import pandas as pd\n",
    "from IPython.display import display\n",
    "pd.set_option('display.max_columns', None)\n",
    "pd.set_option('display.width', 1000)\n",
    "pd.set_option('display.max_rows', 20)\n",
    "pd.set_option('display.colheader_justify', 'center')\n",
    "\n",
    "annotations_df = utilities.parse_labels_json()\n",
    "annotations_engineered_df = utilities.parse_labels_json_with_feature_engineering()\n",
    "\n",
    "display(annotations_df.head())\n",
    "annotations_df.to_csv(\"annotations.csv\", index=False)\n",
    "\n",
    "display(annotations_engineered_df.head(100))\n",
    "annotations_engineered_df.to_csv(\"annotations_engineered.csv\", index=False)"
   ]
  },
  {
   "cell_type": "code",
   "execution_count": null,
   "metadata": {},
   "outputs": [],
   "source": [
    "print(\"Number of rows:\", annotations_engineered_df.shape[0])\n",
    "print(\"Number of columns:\", annotations_engineered_df.shape[1])"
   ]
  },
  {
   "cell_type": "code",
   "execution_count": null,
   "metadata": {},
   "outputs": [],
   "source": [
    "print(\"DataFrame Info:\")\n",
    "print(annotations_engineered_df.info())"
   ]
  },
  {
   "cell_type": "code",
   "execution_count": null,
   "metadata": {},
   "outputs": [],
   "source": [
    "print(\"Missing Values per Column:\")\n",
    "print(annotations_engineered_df.isnull().sum())\n"
   ]
  },
  {
   "cell_type": "code",
   "execution_count": null,
   "metadata": {},
   "outputs": [],
   "source": [
    "print(\"Descriptive Statistics (Including Non-Numerical):\")\n",
    "display(annotations_engineered_df.describe(include='all'))"
   ]
  },
  {
   "cell_type": "code",
   "execution_count": null,
   "metadata": {},
   "outputs": [],
   "source": [
    "# Number of unique labels (excluding game-related columns)\n",
    "label_columns = [col for col in annotations_engineered_df.columns if col.startswith('label_')]\n",
    "unique_labels = len(label_columns)\n",
    "print(\"Number of unique labels:\", unique_labels)\n",
    "\n",
    "# List of unique labels (based on the column names)\n",
    "print(\"Unique labels:\", label_columns)\n"
   ]
  },
  {
   "cell_type": "code",
   "execution_count": null,
   "metadata": {},
   "outputs": [],
   "source": [
    "utilities.print_labels_distribution(annotations_engineered_df)"
   ]
  },
  {
   "cell_type": "code",
   "execution_count": null,
   "metadata": {},
   "outputs": [],
   "source": [
    "utilities.print_labels_frequency(annotations_engineered_df)"
   ]
  },
  {
   "cell_type": "code",
   "execution_count": null,
   "metadata": {},
   "outputs": [],
   "source": [
    "utilities.print_labels_frequency_per_league(annotations_engineered_df)"
   ]
  },
  {
   "cell_type": "code",
   "execution_count": null,
   "metadata": {},
   "outputs": [],
   "source": [
    "utilities.print_labels_distribution_over_game_intervals(annotations_engineered_df)"
   ]
  }
 ],
 "metadata": {
  "kernelspec": {
   "display_name": "Python 3",
   "language": "python",
   "name": "python3"
  },
  "language_info": {
   "codemirror_mode": {
    "name": "ipython",
    "version": 3
   },
   "file_extension": ".py",
   "mimetype": "text/x-python",
   "name": "python",
   "nbconvert_exporter": "python",
   "pygments_lexer": "ipython3",
   "version": "3.10.4"
  }
 },
 "nbformat": 4,
 "nbformat_minor": 2
}
